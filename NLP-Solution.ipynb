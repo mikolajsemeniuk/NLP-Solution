{
 "cells": [
  {
   "cell_type": "markdown",
   "metadata": {},
   "source": [
    "# NLP-Solution\n",
    "Zadanie:\n",
    "* Przygotuj wstępną eksplorację danych (np. długości tekstów, najczęstsze słowa .itp)\n",
    "* Jak automatycznie znalazłbyś teksty z podobnych tematów?\n",
    "* Stwórz model klasyfikujący. Jakie dobre i słabe strony ma otrzymany model? Jak je można wyelminować albo zminimalizować?"
   ]
  },
  {
   "cell_type": "markdown",
   "metadata": {},
   "source": [
    "## Import libraries"
   ]
  },
  {
   "cell_type": "code",
   "execution_count": 1,
   "metadata": {},
   "outputs": [
    {
     "name": "stderr",
     "output_type": "stream",
     "text": [
      "Intel(R) Extension for Scikit-learn* enabled (https://github.com/intel/scikit-learn-intelex)\n"
     ]
    },
    {
     "data": {
      "text/plain": [
       "[PhysicalDevice(name='/physical_device:GPU:0', device_type='GPU')]"
      ]
     },
     "execution_count": 1,
     "metadata": {},
     "output_type": "execute_result"
    }
   ],
   "source": [
    "import numpy as np\n",
    "import cupy as cp\n",
    "import pandas as pd\n",
    "import matplotlib.pyplot as plt\n",
    "import seaborn as sns\n",
    "import spacy\n",
    "import tensorflow as tf\n",
    "from sklearnex import patch_sklearn\n",
    "\n",
    "from numpy import ndarray\n",
    "from cupy._core.core import ndarray as cdarray\n",
    "from pandas import DataFrame, Series\n",
    "from spacy.lang.pl import Polish\n",
    "from spacy.tokens.doc import Doc\n",
    "from scipy.stats import pearsonr\n",
    "from matplotlib.colors import LinearSegmentedColormap\n",
    "from sklearn.model_selection import train_test_split\n",
    "from tensorflow.keras.layers import Embedding, Conv1D, GlobalMaxPool1D, Dense, Dropout\n",
    "from tensorflow.keras import Model\n",
    "from tensorflow import concat\n",
    "from typing import List, Dict, Tuple\n",
    "\n",
    "sns.set_theme()\n",
    "spacy.require_gpu()\n",
    "patch_sklearn()\n",
    "\n",
    "tf.config.list_physical_devices('GPU')"
   ]
  },
  {
   "cell_type": "markdown",
   "metadata": {},
   "source": [
    "## Load dataset"
   ]
  },
  {
   "cell_type": "code",
   "execution_count": 2,
   "metadata": {},
   "outputs": [
    {
     "name": "stdout",
     "output_type": "stream",
     "text": [
      "rows: 936883, columns: 3\n"
     ]
    },
    {
     "data": {
      "text/html": [
       "<div>\n",
       "<style scoped>\n",
       "    .dataframe tbody tr th:only-of-type {\n",
       "        vertical-align: middle;\n",
       "    }\n",
       "\n",
       "    .dataframe tbody tr th {\n",
       "        vertical-align: top;\n",
       "    }\n",
       "\n",
       "    .dataframe thead th {\n",
       "        text-align: right;\n",
       "    }\n",
       "</style>\n",
       "<table border=\"1\" class=\"dataframe\">\n",
       "  <thead>\n",
       "    <tr style=\"text-align: right;\">\n",
       "      <th></th>\n",
       "      <th>description</th>\n",
       "      <th>length</th>\n",
       "      <th>rate</th>\n",
       "    </tr>\n",
       "  </thead>\n",
       "  <tbody>\n",
       "    <tr>\n",
       "      <th>0</th>\n",
       "      <td>Polecam nie pierwszy i nie ostatni raz!</td>\n",
       "      <td>39.0</td>\n",
       "      <td>1.0</td>\n",
       "    </tr>\n",
       "    <tr>\n",
       "      <th>1</th>\n",
       "      <td>Bardzo dobra komunikacja sms i telefoniczna. Z...</td>\n",
       "      <td>121.0</td>\n",
       "      <td>1.0</td>\n",
       "    </tr>\n",
       "    <tr>\n",
       "      <th>2</th>\n",
       "      <td>Polecam zakupy w tym sklepie. Są dostępne częś...</td>\n",
       "      <td>87.0</td>\n",
       "      <td>1.0</td>\n",
       "    </tr>\n",
       "    <tr>\n",
       "      <th>3</th>\n",
       "      <td>0</td>\n",
       "      <td>0.0</td>\n",
       "      <td>0.0</td>\n",
       "    </tr>\n",
       "    <tr>\n",
       "      <th>4</th>\n",
       "      <td>Jestem w pełni zadowolona z przebiegu transakcji</td>\n",
       "      <td>48.0</td>\n",
       "      <td>1.0</td>\n",
       "    </tr>\n",
       "  </tbody>\n",
       "</table>\n",
       "</div>"
      ],
      "text/plain": [
       "                                         description  length  rate\n",
       "0            Polecam nie pierwszy i nie ostatni raz!    39.0   1.0\n",
       "1  Bardzo dobra komunikacja sms i telefoniczna. Z...   121.0   1.0\n",
       "2  Polecam zakupy w tym sklepie. Są dostępne częś...    87.0   1.0\n",
       "3                                                  0     0.0   0.0\n",
       "4   Jestem w pełni zadowolona z przebiegu transakcji    48.0   1.0"
      ]
     },
     "execution_count": 2,
     "metadata": {},
     "output_type": "execute_result"
    }
   ],
   "source": [
    "path: str = \\\n",
    "    'polish_sentiment_dataset.csv'\n",
    "\n",
    "dataset: DataFrame = \\\n",
    "    pd.read_csv(path)\n",
    "    \n",
    "print(f'rows: {dataset.shape[0]}, columns: {dataset.shape[1]}')\n",
    "dataset.head()"
   ]
  },
  {
   "cell_type": "markdown",
   "metadata": {},
   "source": [
    "## Data exploration"
   ]
  },
  {
   "cell_type": "markdown",
   "metadata": {},
   "source": [
    "### Checking data types"
   ]
  },
  {
   "cell_type": "code",
   "execution_count": 3,
   "metadata": {},
   "outputs": [
    {
     "data": {
      "text/plain": [
       "description     object\n",
       "length         float64\n",
       "rate           float64\n",
       "dtype: object"
      ]
     },
     "execution_count": 3,
     "metadata": {},
     "output_type": "execute_result"
    }
   ],
   "source": [
    "dataset.dtypes"
   ]
  },
  {
   "cell_type": "markdown",
   "metadata": {},
   "source": [
    "### Checking `NaNs`"
   ]
  },
  {
   "cell_type": "code",
   "execution_count": 4,
   "metadata": {},
   "outputs": [
    {
     "data": {
      "text/plain": [
       "description       629\n",
       "length         174047\n",
       "rate               66\n",
       "dtype: int64"
      ]
     },
     "execution_count": 4,
     "metadata": {},
     "output_type": "execute_result"
    }
   ],
   "source": [
    "dataset.apply(lambda row: sum(pd.isna(row)))"
   ]
  },
  {
   "cell_type": "markdown",
   "metadata": {},
   "source": [
    "### Checking empty strings"
   ]
  },
  {
   "cell_type": "code",
   "execution_count": 5,
   "metadata": {},
   "outputs": [
    {
     "data": {
      "text/plain": [
       "0"
      ]
     },
     "execution_count": 5,
     "metadata": {},
     "output_type": "execute_result"
    }
   ],
   "source": [
    "(dataset.description == u'').sum()"
   ]
  },
  {
   "cell_type": "markdown",
   "metadata": {},
   "source": [
    "### Checking number of classes from `rate` column"
   ]
  },
  {
   "cell_type": "code",
   "execution_count": 6,
   "metadata": {},
   "outputs": [
    {
     "data": {
      "text/plain": [
       "rate\n",
       "-1.0    184020\n",
       " 0.0     18547\n",
       " 1.0    734250\n",
       "dtype: int64"
      ]
     },
     "execution_count": 6,
     "metadata": {},
     "output_type": "execute_result"
    }
   ],
   "source": [
    "dataset.groupby('rate').size()"
   ]
  },
  {
   "cell_type": "markdown",
   "metadata": {},
   "source": [
    "### Checking ratio of classes from `rate` column"
   ]
  },
  {
   "cell_type": "code",
   "execution_count": 7,
   "metadata": {},
   "outputs": [
    {
     "data": {
      "text/plain": [
       "rate\n",
       "-1.0    19.64\n",
       " 0.0     1.98\n",
       " 1.0    78.37\n",
       "dtype: float64"
      ]
     },
     "execution_count": 7,
     "metadata": {},
     "output_type": "execute_result"
    }
   ],
   "source": [
    "round(dataset.groupby('rate').size() / dataset.shape[0] * 100, 2)"
   ]
  },
  {
   "cell_type": "markdown",
   "metadata": {},
   "source": [
    "### Getting closer look of `0` `rate` column"
   ]
  },
  {
   "cell_type": "code",
   "execution_count": 8,
   "metadata": {},
   "outputs": [
    {
     "data": {
      "text/html": [
       "<div>\n",
       "<style scoped>\n",
       "    .dataframe tbody tr th:only-of-type {\n",
       "        vertical-align: middle;\n",
       "    }\n",
       "\n",
       "    .dataframe tbody tr th {\n",
       "        vertical-align: top;\n",
       "    }\n",
       "\n",
       "    .dataframe thead th {\n",
       "        text-align: right;\n",
       "    }\n",
       "</style>\n",
       "<table border=\"1\" class=\"dataframe\">\n",
       "  <thead>\n",
       "    <tr style=\"text-align: right;\">\n",
       "      <th></th>\n",
       "      <th>description</th>\n",
       "      <th>length</th>\n",
       "      <th>rate</th>\n",
       "    </tr>\n",
       "  </thead>\n",
       "  <tbody>\n",
       "    <tr>\n",
       "      <th>3</th>\n",
       "      <td>0</td>\n",
       "      <td>0.0</td>\n",
       "      <td>0.0</td>\n",
       "    </tr>\n",
       "    <tr>\n",
       "      <th>16</th>\n",
       "      <td>0</td>\n",
       "      <td>0.0</td>\n",
       "      <td>0.0</td>\n",
       "    </tr>\n",
       "    <tr>\n",
       "      <th>34</th>\n",
       "      <td>0</td>\n",
       "      <td>0.0</td>\n",
       "      <td>0.0</td>\n",
       "    </tr>\n",
       "    <tr>\n",
       "      <th>76</th>\n",
       "      <td>0</td>\n",
       "      <td>0.0</td>\n",
       "      <td>0.0</td>\n",
       "    </tr>\n",
       "    <tr>\n",
       "      <th>131</th>\n",
       "      <td>0</td>\n",
       "      <td>0.0</td>\n",
       "      <td>0.0</td>\n",
       "    </tr>\n",
       "    <tr>\n",
       "      <th>172</th>\n",
       "      <td>0</td>\n",
       "      <td>0.0</td>\n",
       "      <td>0.0</td>\n",
       "    </tr>\n",
       "    <tr>\n",
       "      <th>230</th>\n",
       "      <td>0</td>\n",
       "      <td>0.0</td>\n",
       "      <td>0.0</td>\n",
       "    </tr>\n",
       "    <tr>\n",
       "      <th>274</th>\n",
       "      <td>0</td>\n",
       "      <td>0.0</td>\n",
       "      <td>0.0</td>\n",
       "    </tr>\n",
       "    <tr>\n",
       "      <th>288</th>\n",
       "      <td>0</td>\n",
       "      <td>0.0</td>\n",
       "      <td>0.0</td>\n",
       "    </tr>\n",
       "    <tr>\n",
       "      <th>345</th>\n",
       "      <td>0</td>\n",
       "      <td>0.0</td>\n",
       "      <td>0.0</td>\n",
       "    </tr>\n",
       "  </tbody>\n",
       "</table>\n",
       "</div>"
      ],
      "text/plain": [
       "    description  length  rate\n",
       "3             0     0.0   0.0\n",
       "16            0     0.0   0.0\n",
       "34            0     0.0   0.0\n",
       "76            0     0.0   0.0\n",
       "131           0     0.0   0.0\n",
       "172           0     0.0   0.0\n",
       "230           0     0.0   0.0\n",
       "274           0     0.0   0.0\n",
       "288           0     0.0   0.0\n",
       "345           0     0.0   0.0"
      ]
     },
     "execution_count": 8,
     "metadata": {},
     "output_type": "execute_result"
    }
   ],
   "source": [
    "dataset[dataset.rate == 0].head(10)"
   ]
  },
  {
   "cell_type": "markdown",
   "metadata": {},
   "source": [
    "### Checking if `0` `rate` column contains any valuable informations\n",
    "* we assume that valuable informations have `description` values other than `0`\n",
    "* we assume that valuable informations have `length` values other than `0`"
   ]
  },
  {
   "cell_type": "code",
   "execution_count": 9,
   "metadata": {},
   "outputs": [
    {
     "data": {
      "text/plain": [
       "'valuable informations:     0'"
      ]
     },
     "execution_count": 9,
     "metadata": {},
     "output_type": "execute_result"
    }
   ],
   "source": [
    "f'valuable informations: \\\n",
    "    {len(dataset[(dataset.rate == 0) & (dataset.description != \"0\")])}'"
   ]
  },
  {
   "cell_type": "code",
   "execution_count": 10,
   "metadata": {},
   "outputs": [
    {
     "data": {
      "text/plain": [
       "'valuable informations:     0'"
      ]
     },
     "execution_count": 10,
     "metadata": {},
     "output_type": "execute_result"
    }
   ],
   "source": [
    "f'valuable informations: \\\n",
    "    {len(dataset[(dataset.rate == 0) & (dataset.length != 0)])}'"
   ]
  },
  {
   "cell_type": "markdown",
   "metadata": {},
   "source": [
    "## Data preparation\n"
   ]
  },
  {
   "cell_type": "markdown",
   "metadata": {},
   "source": [
    "### Drop `length` column"
   ]
  },
  {
   "cell_type": "code",
   "execution_count": 11,
   "metadata": {},
   "outputs": [
    {
     "data": {
      "text/html": [
       "<div>\n",
       "<style scoped>\n",
       "    .dataframe tbody tr th:only-of-type {\n",
       "        vertical-align: middle;\n",
       "    }\n",
       "\n",
       "    .dataframe tbody tr th {\n",
       "        vertical-align: top;\n",
       "    }\n",
       "\n",
       "    .dataframe thead th {\n",
       "        text-align: right;\n",
       "    }\n",
       "</style>\n",
       "<table border=\"1\" class=\"dataframe\">\n",
       "  <thead>\n",
       "    <tr style=\"text-align: right;\">\n",
       "      <th></th>\n",
       "      <th>description</th>\n",
       "      <th>rate</th>\n",
       "    </tr>\n",
       "  </thead>\n",
       "  <tbody>\n",
       "    <tr>\n",
       "      <th>0</th>\n",
       "      <td>Polecam nie pierwszy i nie ostatni raz!</td>\n",
       "      <td>1.0</td>\n",
       "    </tr>\n",
       "    <tr>\n",
       "      <th>1</th>\n",
       "      <td>Bardzo dobra komunikacja sms i telefoniczna. Z...</td>\n",
       "      <td>1.0</td>\n",
       "    </tr>\n",
       "    <tr>\n",
       "      <th>2</th>\n",
       "      <td>Polecam zakupy w tym sklepie. Są dostępne częś...</td>\n",
       "      <td>1.0</td>\n",
       "    </tr>\n",
       "    <tr>\n",
       "      <th>3</th>\n",
       "      <td>0</td>\n",
       "      <td>0.0</td>\n",
       "    </tr>\n",
       "    <tr>\n",
       "      <th>4</th>\n",
       "      <td>Jestem w pełni zadowolona z przebiegu transakcji</td>\n",
       "      <td>1.0</td>\n",
       "    </tr>\n",
       "  </tbody>\n",
       "</table>\n",
       "</div>"
      ],
      "text/plain": [
       "                                         description  rate\n",
       "0            Polecam nie pierwszy i nie ostatni raz!   1.0\n",
       "1  Bardzo dobra komunikacja sms i telefoniczna. Z...   1.0\n",
       "2  Polecam zakupy w tym sklepie. Są dostępne częś...   1.0\n",
       "3                                                  0   0.0\n",
       "4   Jestem w pełni zadowolona z przebiegu transakcji   1.0"
      ]
     },
     "execution_count": 11,
     "metadata": {},
     "output_type": "execute_result"
    }
   ],
   "source": [
    "clean_dataset: DataFrame = \\\n",
    "    dataset.drop(columns = ['length'])\n",
    "    \n",
    "clean_dataset.head()"
   ]
  },
  {
   "cell_type": "markdown",
   "metadata": {},
   "source": [
    "### Change `description` column to string\n"
   ]
  },
  {
   "cell_type": "code",
   "execution_count": 12,
   "metadata": {},
   "outputs": [
    {
     "data": {
      "text/plain": [
       "description     string\n",
       "rate           float64\n",
       "dtype: object"
      ]
     },
     "execution_count": 12,
     "metadata": {},
     "output_type": "execute_result"
    }
   ],
   "source": [
    "clean_dataset.description = \\\n",
    "    clean_dataset.description.astype('string')\n",
    "\n",
    "clean_dataset.dtypes"
   ]
  },
  {
   "cell_type": "markdown",
   "metadata": {},
   "source": [
    "### Drop `NaNs`\n"
   ]
  },
  {
   "cell_type": "code",
   "execution_count": 13,
   "metadata": {},
   "outputs": [
    {
     "data": {
      "text/plain": [
       "description    0\n",
       "rate           0\n",
       "dtype: int64"
      ]
     },
     "execution_count": 13,
     "metadata": {},
     "output_type": "execute_result"
    }
   ],
   "source": [
    "clean_dataset = \\\n",
    "    clean_dataset[clean_dataset.description.notna()]\n",
    "\n",
    "clean_dataset = \\\n",
    "    clean_dataset[clean_dataset.rate.notna()]\n",
    "\n",
    "clean_dataset.apply(lambda row: sum(pd.isna(row)))"
   ]
  },
  {
   "cell_type": "markdown",
   "metadata": {},
   "source": [
    "### Drop `0` class from `rate` column\n"
   ]
  },
  {
   "cell_type": "code",
   "execution_count": 14,
   "metadata": {},
   "outputs": [
    {
     "data": {
      "text/plain": [
       "'number of 0 rates: 0'"
      ]
     },
     "execution_count": 14,
     "metadata": {},
     "output_type": "execute_result"
    }
   ],
   "source": [
    "clean_dataset = \\\n",
    "    clean_dataset[clean_dataset.rate != 0]\n",
    "\n",
    "f'number of 0 rates: {(clean_dataset.rate == 0).sum()}'"
   ]
  },
  {
   "cell_type": "markdown",
   "metadata": {},
   "source": [
    "### Convert `-1` class to `0` class from `rate` column"
   ]
  },
  {
   "cell_type": "code",
   "execution_count": 15,
   "metadata": {},
   "outputs": [
    {
     "data": {
      "text/plain": [
       "rate\n",
       "0.0    19.99\n",
       "1.0    80.01\n",
       "dtype: float64"
      ]
     },
     "execution_count": 15,
     "metadata": {},
     "output_type": "execute_result"
    }
   ],
   "source": [
    "clean_dataset.rate.replace(-1, 0, inplace = True)\n",
    "\n",
    "round(clean_dataset.groupby('rate').size() / clean_dataset.shape[0] * 100, 2)"
   ]
  },
  {
   "cell_type": "code",
   "execution_count": 16,
   "metadata": {},
   "outputs": [
    {
     "data": {
      "text/plain": [
       "rate\n",
       "0.0    183391\n",
       "1.0    734250\n",
       "dtype: int64"
      ]
     },
     "execution_count": 16,
     "metadata": {},
     "output_type": "execute_result"
    }
   ],
   "source": [
    "clean_dataset.groupby('rate').size()"
   ]
  },
  {
   "cell_type": "markdown",
   "metadata": {},
   "source": [
    "### Change column names"
   ]
  },
  {
   "cell_type": "code",
   "execution_count": 17,
   "metadata": {},
   "outputs": [
    {
     "name": "stdout",
     "output_type": "stream",
     "text": [
      "clean_dataset rows: 917641, columns: 2\n"
     ]
    },
    {
     "data": {
      "text/html": [
       "<div>\n",
       "<style scoped>\n",
       "    .dataframe tbody tr th:only-of-type {\n",
       "        vertical-align: middle;\n",
       "    }\n",
       "\n",
       "    .dataframe tbody tr th {\n",
       "        vertical-align: top;\n",
       "    }\n",
       "\n",
       "    .dataframe thead th {\n",
       "        text-align: right;\n",
       "    }\n",
       "</style>\n",
       "<table border=\"1\" class=\"dataframe\">\n",
       "  <thead>\n",
       "    <tr style=\"text-align: right;\">\n",
       "      <th></th>\n",
       "      <th>Sentence</th>\n",
       "      <th>Rate</th>\n",
       "    </tr>\n",
       "  </thead>\n",
       "  <tbody>\n",
       "    <tr>\n",
       "      <th>0</th>\n",
       "      <td>Polecam nie pierwszy i nie ostatni raz!</td>\n",
       "      <td>1.0</td>\n",
       "    </tr>\n",
       "    <tr>\n",
       "      <th>1</th>\n",
       "      <td>Bardzo dobra komunikacja sms i telefoniczna. Z...</td>\n",
       "      <td>1.0</td>\n",
       "    </tr>\n",
       "    <tr>\n",
       "      <th>2</th>\n",
       "      <td>Polecam zakupy w tym sklepie. Są dostępne częś...</td>\n",
       "      <td>1.0</td>\n",
       "    </tr>\n",
       "    <tr>\n",
       "      <th>4</th>\n",
       "      <td>Jestem w pełni zadowolona z przebiegu transakcji</td>\n",
       "      <td>1.0</td>\n",
       "    </tr>\n",
       "    <tr>\n",
       "      <th>5</th>\n",
       "      <td>Transakcja przebiegła błyskawicznie. Pełen pro...</td>\n",
       "      <td>1.0</td>\n",
       "    </tr>\n",
       "  </tbody>\n",
       "</table>\n",
       "</div>"
      ],
      "text/plain": [
       "                                            Sentence  Rate\n",
       "0            Polecam nie pierwszy i nie ostatni raz!   1.0\n",
       "1  Bardzo dobra komunikacja sms i telefoniczna. Z...   1.0\n",
       "2  Polecam zakupy w tym sklepie. Są dostępne częś...   1.0\n",
       "4   Jestem w pełni zadowolona z przebiegu transakcji   1.0\n",
       "5  Transakcja przebiegła błyskawicznie. Pełen pro...   1.0"
      ]
     },
     "execution_count": 17,
     "metadata": {},
     "output_type": "execute_result"
    }
   ],
   "source": [
    "columns_to_rename: Dict[str, str] = \\\n",
    "    {'description': 'Sentence', 'rate': 'Rate'}\n",
    "\n",
    "clean_dataset = \\\n",
    "    clean_dataset.rename(columns = columns_to_rename)\n",
    "\n",
    "print(f'clean_dataset rows: {clean_dataset.shape[0]}, columns: {clean_dataset.shape[1]}')\n",
    "clean_dataset.head()"
   ]
  },
  {
   "cell_type": "markdown",
   "metadata": {},
   "source": [
    "## Reduce dataset\n",
    "reduce dataset because of gpu and memory capability of my laptop"
   ]
  },
  {
   "cell_type": "markdown",
   "metadata": {},
   "source": [
    "### Sort dataset to equal size for both classes"
   ]
  },
  {
   "cell_type": "code",
   "execution_count": 18,
   "metadata": {},
   "outputs": [
    {
     "name": "stdout",
     "output_type": "stream",
     "text": [
      "clean_dataset rows: 917641, columns: 2\n"
     ]
    },
    {
     "data": {
      "text/html": [
       "<div>\n",
       "<style scoped>\n",
       "    .dataframe tbody tr th:only-of-type {\n",
       "        vertical-align: middle;\n",
       "    }\n",
       "\n",
       "    .dataframe tbody tr th {\n",
       "        vertical-align: top;\n",
       "    }\n",
       "\n",
       "    .dataframe thead th {\n",
       "        text-align: right;\n",
       "    }\n",
       "</style>\n",
       "<table border=\"1\" class=\"dataframe\">\n",
       "  <thead>\n",
       "    <tr style=\"text-align: right;\">\n",
       "      <th></th>\n",
       "      <th>Sentence</th>\n",
       "      <th>Rate</th>\n",
       "    </tr>\n",
       "  </thead>\n",
       "  <tbody>\n",
       "    <tr>\n",
       "      <th>936882</th>\n",
       "      <td>wiesz człowieku że on ją nawet nie uderzył i m...</td>\n",
       "      <td>0.0</td>\n",
       "    </tr>\n",
       "    <tr>\n",
       "      <th>814850</th>\n",
       "      <td>jak mój kot to zobaczył to od razu spierdolił ...</td>\n",
       "      <td>0.0</td>\n",
       "    </tr>\n",
       "    <tr>\n",
       "      <th>814849</th>\n",
       "      <td>a byłaś u spowiedzi niegrzeczna dziewczynko</td>\n",
       "      <td>0.0</td>\n",
       "    </tr>\n",
       "    <tr>\n",
       "      <th>814848</th>\n",
       "      <td>mmmLala bierz mnie</td>\n",
       "      <td>0.0</td>\n",
       "    </tr>\n",
       "    <tr>\n",
       "      <th>814847</th>\n",
       "      <td>Tak chujowe że aż mi chromosom wyjebało Sorry ...</td>\n",
       "      <td>0.0</td>\n",
       "    </tr>\n",
       "  </tbody>\n",
       "</table>\n",
       "</div>"
      ],
      "text/plain": [
       "                                                 Sentence  Rate\n",
       "936882  wiesz człowieku że on ją nawet nie uderzył i m...   0.0\n",
       "814850  jak mój kot to zobaczył to od razu spierdolił ...   0.0\n",
       "814849      a byłaś u spowiedzi niegrzeczna dziewczynko     0.0\n",
       "814848                                mmmLala bierz mnie    0.0\n",
       "814847  Tak chujowe że aż mi chromosom wyjebało Sorry ...   0.0"
      ]
     },
     "execution_count": 18,
     "metadata": {},
     "output_type": "execute_result"
    }
   ],
   "source": [
    "reduced_dataset: DataFrame = \\\n",
    "    clean_dataset.copy().sort_values('Rate')\n",
    "\n",
    "print(f'clean_dataset rows: {reduced_dataset.shape[0]}, columns: {reduced_dataset.shape[1]}')\n",
    "reduced_dataset.head()"
   ]
  },
  {
   "cell_type": "markdown",
   "metadata": {},
   "source": [
    "### Concatenate `DataFrames` with class `0` and `1` to one `DataFrame` "
   ]
  },
  {
   "cell_type": "code",
   "execution_count": 19,
   "metadata": {},
   "outputs": [
    {
     "name": "stdout",
     "output_type": "stream",
     "text": [
      "clean_dataset rows: 20000, columns: 2\n"
     ]
    },
    {
     "data": {
      "text/plain": [
       "Rate\n",
       "0.0    50.0\n",
       "1.0    50.0\n",
       "dtype: float64"
      ]
     },
     "execution_count": 19,
     "metadata": {},
     "output_type": "execute_result"
    }
   ],
   "source": [
    "negative: DataFrame = \\\n",
    "    reduced_dataset[:10_000]\n",
    "    \n",
    "positive: DataFrame = \\\n",
    "    reduced_dataset[-10_000:]\n",
    "    \n",
    "reduced_dataset = \\\n",
    "    pd.concat([negative, positive], ignore_index = True, sort = False)\n",
    "    \n",
    "print(f'clean_dataset rows: {reduced_dataset.shape[0]}, columns: {reduced_dataset.shape[1]}')\n",
    "round(reduced_dataset.groupby('Rate').size() / reduced_dataset.shape[0] * 100, 2)"
   ]
  },
  {
   "cell_type": "markdown",
   "metadata": {},
   "source": [
    "## Data Analysis"
   ]
  },
  {
   "cell_type": "markdown",
   "metadata": {},
   "source": [
    "### Load polish words corpus"
   ]
  },
  {
   "cell_type": "code",
   "execution_count": 20,
   "metadata": {},
   "outputs": [
    {
     "data": {
      "text/plain": [
       "'default batch size: 256'"
      ]
     },
     "execution_count": 20,
     "metadata": {},
     "output_type": "execute_result"
    }
   ],
   "source": [
    "nlp: Polish = \\\n",
    "    spacy.load('pl_core_news_lg')\n",
    "\n",
    "f'default batch size: {nlp.batch_size}'"
   ]
  },
  {
   "cell_type": "markdown",
   "metadata": {},
   "source": [
    "### Tokenize words"
   ]
  },
  {
   "cell_type": "code",
   "execution_count": 21,
   "metadata": {},
   "outputs": [],
   "source": [
    "documents: List[Doc] = \\\n",
    "    list(nlp.pipe(reduced_dataset.Sentence, disable = \"ner\", n_process = 1, batch_size = 128))"
   ]
  },
  {
   "cell_type": "markdown",
   "metadata": {},
   "source": [
    "### Create dataframe for analysis"
   ]
  },
  {
   "cell_type": "code",
   "execution_count": 22,
   "metadata": {},
   "outputs": [
    {
     "name": "stdout",
     "output_type": "stream",
     "text": [
      "clean_dataset rows: 20000, columns: 2\n"
     ]
    },
    {
     "data": {
      "text/html": [
       "<div>\n",
       "<style scoped>\n",
       "    .dataframe tbody tr th:only-of-type {\n",
       "        vertical-align: middle;\n",
       "    }\n",
       "\n",
       "    .dataframe tbody tr th {\n",
       "        vertical-align: top;\n",
       "    }\n",
       "\n",
       "    .dataframe thead th {\n",
       "        text-align: right;\n",
       "    }\n",
       "</style>\n",
       "<table border=\"1\" class=\"dataframe\">\n",
       "  <thead>\n",
       "    <tr style=\"text-align: right;\">\n",
       "      <th></th>\n",
       "      <th>Sentence</th>\n",
       "      <th>Rate</th>\n",
       "    </tr>\n",
       "  </thead>\n",
       "  <tbody>\n",
       "    <tr>\n",
       "      <th>0</th>\n",
       "      <td>wiesz człowieku że on ją nawet nie uderzył i m...</td>\n",
       "      <td>0.0</td>\n",
       "    </tr>\n",
       "    <tr>\n",
       "      <th>1</th>\n",
       "      <td>jak mój kot to zobaczył to od razu spierdolił ...</td>\n",
       "      <td>0.0</td>\n",
       "    </tr>\n",
       "    <tr>\n",
       "      <th>2</th>\n",
       "      <td>a byłaś u spowiedzi niegrzeczna dziewczynko</td>\n",
       "      <td>0.0</td>\n",
       "    </tr>\n",
       "    <tr>\n",
       "      <th>3</th>\n",
       "      <td>mmmLala bierz mnie</td>\n",
       "      <td>0.0</td>\n",
       "    </tr>\n",
       "    <tr>\n",
       "      <th>4</th>\n",
       "      <td>Tak chujowe że aż mi chromosom wyjebało Sorry ...</td>\n",
       "      <td>0.0</td>\n",
       "    </tr>\n",
       "  </tbody>\n",
       "</table>\n",
       "</div>"
      ],
      "text/plain": [
       "                                            Sentence  Rate\n",
       "0  wiesz człowieku że on ją nawet nie uderzył i m...   0.0\n",
       "1  jak mój kot to zobaczył to od razu spierdolił ...   0.0\n",
       "2      a byłaś u spowiedzi niegrzeczna dziewczynko     0.0\n",
       "3                                mmmLala bierz mnie    0.0\n",
       "4  Tak chujowe że aż mi chromosom wyjebało Sorry ...   0.0"
      ]
     },
     "execution_count": 22,
     "metadata": {},
     "output_type": "execute_result"
    }
   ],
   "source": [
    "analyzed_dataset: DataFrame = \\\n",
    "    reduced_dataset.copy()\n",
    "\n",
    "print(f'clean_dataset rows: {analyzed_dataset.shape[0]}, columns: {analyzed_dataset.shape[1]}')\n",
    "analyzed_dataset.head()"
   ]
  },
  {
   "cell_type": "markdown",
   "metadata": {},
   "source": [
    "### Count of occurences part of speeches, words and characters\n",
    "| polish | index | shortcut | name | examples |\n",
    "| --- | --- | --- | --- | --- |\n",
    "| przymiotnik | 84 | ADJ | adjective | big, old, green, incomprehensible, first |\n",
    "| przyimek | 85 | ADP |\tadposition | in, to, during |\n",
    "| przysłówek | 86 | ADV | adverb | very, tomorrow, down, where, there |\n",
    "| czasownik posiłkowy | 87 | AUX |\tauxiliary | is, has (done), will (do), should (do) |\n",
    "| spójnik | 88 | CONJ | conjunction | and, or, but |\n",
    "| spójnik współrzędny | 89 | CCONJ | coordinating conjunction | and, or, but |\n",
    "| określnik | 90 | DET | determiner | a, an, the |\n",
    "| wykrzyknik | 91 | INTJ | interjection | psst, ouch |\n",
    "| rzeczownik | 92 | NOUN | noun | girl, cat, tree, air, beauty |\n",
    "| liczebnik | 93 | NUM | numeral | 1, 2017, one, seventy-seven, IV, MMXIV |\n",
    "| partykuła | 94 | PART | particle | ’s, not |\n",
    "| zaimek | 95 | PRON | pronoun | I, you, he, she, myself, themselves, somebody |\n",
    "| nazwy własne | 96 | PROPN | proper noun | Mary, John, London, NATO, HBO |\n",
    "| interpunkcja | 97 | PUNCT | punctuation | ., (, ), ? |\n",
    "| spójnik podrzędny | 98 | subordinating conjunction | subordinating conjunction | if, while, that |\n",
    "| symbol | 99 | SYM | symbol | $, %, §, ©, +, −, ×, ÷, =, :), 😝 |\n",
    "| czasownik | 100 | VERB | verb | run, runs, running, eat, ate, eating |\n",
    "| inne | 102 | X | other | dasdsadsa |\n",
    "| spacja | 104 | SPACE | space | |"
   ]
  },
  {
   "cell_type": "code",
   "execution_count": 23,
   "metadata": {},
   "outputs": [
    {
     "name": "stdout",
     "output_type": "stream",
     "text": [
      "Sentence                           string\n",
      "Rate                              float64\n",
      "NoCount                             int64\n",
      "WordsCount                          int64\n",
      "CharactersCount                     int64\n",
      "StopWordsCount                      int64\n",
      "AdjectivesCount                     int64\n",
      "AdverbsCount                        int64\n",
      "ConjunctionsCount                   int64\n",
      "NounsCount                          int64\n",
      "NumeralsCount                       int64\n",
      "ParticlesCount                      int64\n",
      "PunctuationCount                    int64\n",
      "SubordinatingConjunctionsCount      int64\n",
      "SymbolsCount                        int64\n",
      "VerbsCount                          int64\n",
      "dtype: object\n"
     ]
    },
    {
     "data": {
      "text/html": [
       "<div>\n",
       "<style scoped>\n",
       "    .dataframe tbody tr th:only-of-type {\n",
       "        vertical-align: middle;\n",
       "    }\n",
       "\n",
       "    .dataframe tbody tr th {\n",
       "        vertical-align: top;\n",
       "    }\n",
       "\n",
       "    .dataframe thead th {\n",
       "        text-align: right;\n",
       "    }\n",
       "</style>\n",
       "<table border=\"1\" class=\"dataframe\">\n",
       "  <thead>\n",
       "    <tr style=\"text-align: right;\">\n",
       "      <th></th>\n",
       "      <th>Sentence</th>\n",
       "      <th>Rate</th>\n",
       "      <th>NoCount</th>\n",
       "      <th>WordsCount</th>\n",
       "      <th>CharactersCount</th>\n",
       "      <th>StopWordsCount</th>\n",
       "      <th>AdjectivesCount</th>\n",
       "      <th>AdverbsCount</th>\n",
       "      <th>ConjunctionsCount</th>\n",
       "      <th>NounsCount</th>\n",
       "      <th>NumeralsCount</th>\n",
       "      <th>ParticlesCount</th>\n",
       "      <th>PunctuationCount</th>\n",
       "      <th>SubordinatingConjunctionsCount</th>\n",
       "      <th>SymbolsCount</th>\n",
       "      <th>VerbsCount</th>\n",
       "    </tr>\n",
       "  </thead>\n",
       "  <tbody>\n",
       "    <tr>\n",
       "      <th>0</th>\n",
       "      <td>wiesz człowieku że on ją nawet nie uderzył i m...</td>\n",
       "      <td>0.0</td>\n",
       "      <td>1</td>\n",
       "      <td>13</td>\n",
       "      <td>62</td>\n",
       "      <td>8</td>\n",
       "      <td>0</td>\n",
       "      <td>0</td>\n",
       "      <td>0</td>\n",
       "      <td>1</td>\n",
       "      <td>0</td>\n",
       "      <td>2</td>\n",
       "      <td>0</td>\n",
       "      <td>1</td>\n",
       "      <td>0</td>\n",
       "      <td>3</td>\n",
       "    </tr>\n",
       "    <tr>\n",
       "      <th>1</th>\n",
       "      <td>jak mój kot to zobaczył to od razu spierdolił ...</td>\n",
       "      <td>0.0</td>\n",
       "      <td>0</td>\n",
       "      <td>12</td>\n",
       "      <td>60</td>\n",
       "      <td>7</td>\n",
       "      <td>0</td>\n",
       "      <td>0</td>\n",
       "      <td>0</td>\n",
       "      <td>2</td>\n",
       "      <td>0</td>\n",
       "      <td>0</td>\n",
       "      <td>0</td>\n",
       "      <td>2</td>\n",
       "      <td>0</td>\n",
       "      <td>3</td>\n",
       "    </tr>\n",
       "    <tr>\n",
       "      <th>2</th>\n",
       "      <td>a byłaś u spowiedzi niegrzeczna dziewczynko</td>\n",
       "      <td>0.0</td>\n",
       "      <td>0</td>\n",
       "      <td>7</td>\n",
       "      <td>45</td>\n",
       "      <td>2</td>\n",
       "      <td>1</td>\n",
       "      <td>0</td>\n",
       "      <td>0</td>\n",
       "      <td>2</td>\n",
       "      <td>0</td>\n",
       "      <td>0</td>\n",
       "      <td>0</td>\n",
       "      <td>0</td>\n",
       "      <td>0</td>\n",
       "      <td>1</td>\n",
       "    </tr>\n",
       "    <tr>\n",
       "      <th>3</th>\n",
       "      <td>mmmLala bierz mnie</td>\n",
       "      <td>0.0</td>\n",
       "      <td>0</td>\n",
       "      <td>3</td>\n",
       "      <td>19</td>\n",
       "      <td>1</td>\n",
       "      <td>0</td>\n",
       "      <td>1</td>\n",
       "      <td>0</td>\n",
       "      <td>0</td>\n",
       "      <td>0</td>\n",
       "      <td>0</td>\n",
       "      <td>0</td>\n",
       "      <td>0</td>\n",
       "      <td>0</td>\n",
       "      <td>1</td>\n",
       "    </tr>\n",
       "    <tr>\n",
       "      <th>4</th>\n",
       "      <td>Tak chujowe że aż mi chromosom wyjebało Sorry ...</td>\n",
       "      <td>0.0</td>\n",
       "      <td>0</td>\n",
       "      <td>15</td>\n",
       "      <td>90</td>\n",
       "      <td>8</td>\n",
       "      <td>2</td>\n",
       "      <td>3</td>\n",
       "      <td>0</td>\n",
       "      <td>1</td>\n",
       "      <td>0</td>\n",
       "      <td>2</td>\n",
       "      <td>0</td>\n",
       "      <td>2</td>\n",
       "      <td>0</td>\n",
       "      <td>1</td>\n",
       "    </tr>\n",
       "  </tbody>\n",
       "</table>\n",
       "</div>"
      ],
      "text/plain": [
       "                                            Sentence  Rate  NoCount  \\\n",
       "0  wiesz człowieku że on ją nawet nie uderzył i m...   0.0        1   \n",
       "1  jak mój kot to zobaczył to od razu spierdolił ...   0.0        0   \n",
       "2      a byłaś u spowiedzi niegrzeczna dziewczynko     0.0        0   \n",
       "3                                mmmLala bierz mnie    0.0        0   \n",
       "4  Tak chujowe że aż mi chromosom wyjebało Sorry ...   0.0        0   \n",
       "\n",
       "   WordsCount  CharactersCount  StopWordsCount  AdjectivesCount  AdverbsCount  \\\n",
       "0          13               62               8                0             0   \n",
       "1          12               60               7                0             0   \n",
       "2           7               45               2                1             0   \n",
       "3           3               19               1                0             1   \n",
       "4          15               90               8                2             3   \n",
       "\n",
       "   ConjunctionsCount  NounsCount  NumeralsCount  ParticlesCount  \\\n",
       "0                  0           1              0               2   \n",
       "1                  0           2              0               0   \n",
       "2                  0           2              0               0   \n",
       "3                  0           0              0               0   \n",
       "4                  0           1              0               2   \n",
       "\n",
       "   PunctuationCount  SubordinatingConjunctionsCount  SymbolsCount  VerbsCount  \n",
       "0                 0                               1             0           3  \n",
       "1                 0                               2             0           3  \n",
       "2                 0                               0             0           1  \n",
       "3                 0                               0             0           1  \n",
       "4                 0                               2             0           1  "
      ]
     },
     "execution_count": 23,
     "metadata": {},
     "output_type": "execute_result"
    }
   ],
   "source": [
    "analyzed_dataset['NoCount'] = \\\n",
    "    [len([word for word in document if word.norm == nlp.vocab['nie'].norm]) for document in documents]\n",
    "\n",
    "analyzed_dataset['WordsCount'] = \\\n",
    "    [len(document) for document in documents]\n",
    "\n",
    "analyzed_dataset['CharactersCount'] = \\\n",
    "    [len(sentence) for sentence in analyzed_dataset.Sentence]\n",
    "\n",
    "analyzed_dataset['StopWordsCount'] = \\\n",
    "    [len([word for word in document if word.is_stop]) for document in documents]\n",
    "\n",
    "analyzed_dataset['AdjectivesCount'] = \\\n",
    "    [len([word for word in document if word.pos == 84]) for document in documents]\n",
    "\n",
    "analyzed_dataset['AdverbsCount'] = \\\n",
    "    [len([word for word in document if word.pos == 86]) for document in documents]\n",
    "\n",
    "analyzed_dataset['ConjunctionsCount'] = \\\n",
    "    [len([word for word in document if word.pos == 88]) for document in documents]\n",
    "\n",
    "analyzed_dataset['NounsCount'] = \\\n",
    "    [len([word for word in document if word.pos == 92]) for document in documents]\n",
    "\n",
    "analyzed_dataset['NumeralsCount'] = \\\n",
    "    [len([word for word in document if word.pos == 93]) for document in documents]\n",
    "\n",
    "analyzed_dataset['ParticlesCount'] = \\\n",
    "    [len([word for word in document if word.pos == 94]) for document in documents]\n",
    "\n",
    "analyzed_dataset['PunctuationCount'] = \\\n",
    "    [len([word for word in document if word.pos == 97]) for document in documents]\n",
    "\n",
    "analyzed_dataset['SubordinatingConjunctionsCount'] = \\\n",
    "    [len([word for word in document if word.pos == 98]) for document in documents]\n",
    "\n",
    "analyzed_dataset['SymbolsCount'] = \\\n",
    "    [len([word for word in document if word.pos == 99]) for document in documents]\n",
    "\n",
    "analyzed_dataset['VerbsCount'] = \\\n",
    "    [len([word for word in document if word.pos == 100]) for document in documents]\n",
    "\n",
    "print(analyzed_dataset.dtypes)\n",
    "analyzed_dataset.head()"
   ]
  },
  {
   "cell_type": "markdown",
   "metadata": {},
   "source": [
    "### Describe data"
   ]
  },
  {
   "cell_type": "code",
   "execution_count": 26,
   "metadata": {},
   "outputs": [
    {
     "data": {
      "text/html": [
       "<div>\n",
       "<style scoped>\n",
       "    .dataframe tbody tr th:only-of-type {\n",
       "        vertical-align: middle;\n",
       "    }\n",
       "\n",
       "    .dataframe tbody tr th {\n",
       "        vertical-align: top;\n",
       "    }\n",
       "\n",
       "    .dataframe thead th {\n",
       "        text-align: right;\n",
       "    }\n",
       "</style>\n",
       "<table border=\"1\" class=\"dataframe\">\n",
       "  <thead>\n",
       "    <tr style=\"text-align: right;\">\n",
       "      <th></th>\n",
       "      <th>NoCount</th>\n",
       "      <th>WordsCount</th>\n",
       "      <th>CharactersCount</th>\n",
       "      <th>StopWordsCount</th>\n",
       "      <th>AdjectivesCount</th>\n",
       "      <th>AdverbsCount</th>\n",
       "      <th>ConjunctionsCount</th>\n",
       "      <th>NounsCount</th>\n",
       "      <th>NumeralsCount</th>\n",
       "      <th>ParticlesCount</th>\n",
       "      <th>PunctuationCount</th>\n",
       "      <th>SubordinatingConjunctionsCount</th>\n",
       "      <th>SymbolsCount</th>\n",
       "      <th>VerbsCount</th>\n",
       "    </tr>\n",
       "  </thead>\n",
       "  <tbody>\n",
       "    <tr>\n",
       "      <th>count</th>\n",
       "      <td>20000.000000</td>\n",
       "      <td>20000.000000</td>\n",
       "      <td>20000.000000</td>\n",
       "      <td>20000.000000</td>\n",
       "      <td>20000.000000</td>\n",
       "      <td>20000.000000</td>\n",
       "      <td>20000.0</td>\n",
       "      <td>20000.000000</td>\n",
       "      <td>20000.000000</td>\n",
       "      <td>20000.000000</td>\n",
       "      <td>20000.000000</td>\n",
       "      <td>20000.000000</td>\n",
       "      <td>20000.000000</td>\n",
       "      <td>20000.000000</td>\n",
       "    </tr>\n",
       "    <tr>\n",
       "      <th>mean</th>\n",
       "      <td>0.171650</td>\n",
       "      <td>11.883500</td>\n",
       "      <td>67.169300</td>\n",
       "      <td>3.772200</td>\n",
       "      <td>1.363050</td>\n",
       "      <td>0.892750</td>\n",
       "      <td>0.0</td>\n",
       "      <td>2.642350</td>\n",
       "      <td>0.074650</td>\n",
       "      <td>0.442650</td>\n",
       "      <td>1.500400</td>\n",
       "      <td>0.235800</td>\n",
       "      <td>0.051350</td>\n",
       "      <td>1.309450</td>\n",
       "    </tr>\n",
       "    <tr>\n",
       "      <th>std</th>\n",
       "      <td>0.511468</td>\n",
       "      <td>20.880829</td>\n",
       "      <td>85.570797</td>\n",
       "      <td>4.848596</td>\n",
       "      <td>1.678596</td>\n",
       "      <td>1.220501</td>\n",
       "      <td>0.0</td>\n",
       "      <td>3.059167</td>\n",
       "      <td>0.325703</td>\n",
       "      <td>0.923338</td>\n",
       "      <td>8.566964</td>\n",
       "      <td>0.611733</td>\n",
       "      <td>0.250233</td>\n",
       "      <td>1.874211</td>\n",
       "    </tr>\n",
       "    <tr>\n",
       "      <th>min</th>\n",
       "      <td>0.000000</td>\n",
       "      <td>1.000000</td>\n",
       "      <td>5.000000</td>\n",
       "      <td>0.000000</td>\n",
       "      <td>0.000000</td>\n",
       "      <td>0.000000</td>\n",
       "      <td>0.0</td>\n",
       "      <td>0.000000</td>\n",
       "      <td>0.000000</td>\n",
       "      <td>0.000000</td>\n",
       "      <td>0.000000</td>\n",
       "      <td>0.000000</td>\n",
       "      <td>0.000000</td>\n",
       "      <td>0.000000</td>\n",
       "    </tr>\n",
       "    <tr>\n",
       "      <th>25%</th>\n",
       "      <td>0.000000</td>\n",
       "      <td>6.000000</td>\n",
       "      <td>35.000000</td>\n",
       "      <td>1.000000</td>\n",
       "      <td>0.000000</td>\n",
       "      <td>0.000000</td>\n",
       "      <td>0.0</td>\n",
       "      <td>1.000000</td>\n",
       "      <td>0.000000</td>\n",
       "      <td>0.000000</td>\n",
       "      <td>0.000000</td>\n",
       "      <td>0.000000</td>\n",
       "      <td>0.000000</td>\n",
       "      <td>0.000000</td>\n",
       "    </tr>\n",
       "    <tr>\n",
       "      <th>50%</th>\n",
       "      <td>0.000000</td>\n",
       "      <td>9.000000</td>\n",
       "      <td>49.000000</td>\n",
       "      <td>3.000000</td>\n",
       "      <td>1.000000</td>\n",
       "      <td>1.000000</td>\n",
       "      <td>0.0</td>\n",
       "      <td>2.000000</td>\n",
       "      <td>0.000000</td>\n",
       "      <td>0.000000</td>\n",
       "      <td>1.000000</td>\n",
       "      <td>0.000000</td>\n",
       "      <td>0.000000</td>\n",
       "      <td>1.000000</td>\n",
       "    </tr>\n",
       "    <tr>\n",
       "      <th>75%</th>\n",
       "      <td>0.000000</td>\n",
       "      <td>13.000000</td>\n",
       "      <td>76.000000</td>\n",
       "      <td>5.000000</td>\n",
       "      <td>2.000000</td>\n",
       "      <td>1.000000</td>\n",
       "      <td>0.0</td>\n",
       "      <td>3.000000</td>\n",
       "      <td>0.000000</td>\n",
       "      <td>1.000000</td>\n",
       "      <td>2.000000</td>\n",
       "      <td>0.000000</td>\n",
       "      <td>0.000000</td>\n",
       "      <td>2.000000</td>\n",
       "    </tr>\n",
       "    <tr>\n",
       "      <th>max</th>\n",
       "      <td>30.000000</td>\n",
       "      <td>2360.000000</td>\n",
       "      <td>7140.000000</td>\n",
       "      <td>243.000000</td>\n",
       "      <td>48.000000</td>\n",
       "      <td>20.000000</td>\n",
       "      <td>0.0</td>\n",
       "      <td>98.000000</td>\n",
       "      <td>8.000000</td>\n",
       "      <td>46.000000</td>\n",
       "      <td>1168.000000</td>\n",
       "      <td>31.000000</td>\n",
       "      <td>5.000000</td>\n",
       "      <td>83.000000</td>\n",
       "    </tr>\n",
       "  </tbody>\n",
       "</table>\n",
       "</div>"
      ],
      "text/plain": [
       "            NoCount    WordsCount  CharactersCount  StopWordsCount  \\\n",
       "count  20000.000000  20000.000000     20000.000000    20000.000000   \n",
       "mean       0.171650     11.883500        67.169300        3.772200   \n",
       "std        0.511468     20.880829        85.570797        4.848596   \n",
       "min        0.000000      1.000000         5.000000        0.000000   \n",
       "25%        0.000000      6.000000        35.000000        1.000000   \n",
       "50%        0.000000      9.000000        49.000000        3.000000   \n",
       "75%        0.000000     13.000000        76.000000        5.000000   \n",
       "max       30.000000   2360.000000      7140.000000      243.000000   \n",
       "\n",
       "       AdjectivesCount  AdverbsCount  ConjunctionsCount    NounsCount  \\\n",
       "count     20000.000000  20000.000000            20000.0  20000.000000   \n",
       "mean          1.363050      0.892750                0.0      2.642350   \n",
       "std           1.678596      1.220501                0.0      3.059167   \n",
       "min           0.000000      0.000000                0.0      0.000000   \n",
       "25%           0.000000      0.000000                0.0      1.000000   \n",
       "50%           1.000000      1.000000                0.0      2.000000   \n",
       "75%           2.000000      1.000000                0.0      3.000000   \n",
       "max          48.000000     20.000000                0.0     98.000000   \n",
       "\n",
       "       NumeralsCount  ParticlesCount  PunctuationCount  \\\n",
       "count   20000.000000    20000.000000      20000.000000   \n",
       "mean        0.074650        0.442650          1.500400   \n",
       "std         0.325703        0.923338          8.566964   \n",
       "min         0.000000        0.000000          0.000000   \n",
       "25%         0.000000        0.000000          0.000000   \n",
       "50%         0.000000        0.000000          1.000000   \n",
       "75%         0.000000        1.000000          2.000000   \n",
       "max         8.000000       46.000000       1168.000000   \n",
       "\n",
       "       SubordinatingConjunctionsCount  SymbolsCount    VerbsCount  \n",
       "count                    20000.000000  20000.000000  20000.000000  \n",
       "mean                         0.235800      0.051350      1.309450  \n",
       "std                          0.611733      0.250233      1.874211  \n",
       "min                          0.000000      0.000000      0.000000  \n",
       "25%                          0.000000      0.000000      0.000000  \n",
       "50%                          0.000000      0.000000      1.000000  \n",
       "75%                          0.000000      0.000000      2.000000  \n",
       "max                         31.000000      5.000000     83.000000  "
      ]
     },
     "execution_count": 26,
     "metadata": {},
     "output_type": "execute_result"
    }
   ],
   "source": [
    "analyzed_dataset.drop(columns = ['Sentence', 'Rate']).describe()"
   ]
  },
  {
   "cell_type": "markdown",
   "metadata": {},
   "source": [
    "### Plot sum of occurences"
   ]
  },
  {
   "cell_type": "code",
   "execution_count": 27,
   "metadata": {},
   "outputs": [
    {
     "data": {
      "text/plain": [
       "<AxesSubplot:title={'center':'Sum of occurences'}, xlabel='Names'>"
      ]
     },
     "execution_count": 27,
     "metadata": {},
     "output_type": "execute_result"
    },
    {
     "data": {
      "image/png": "[encoded data removed]",
      "text/plain": [
       "<Figure size 1296x720 with 1 Axes>"
      ]
     },
     "metadata": {},
     "output_type": "display_data"
    }
   ],
   "source": [
    "sum_occurences: DataFrame = \\\n",
    "    analyzed_dataset.drop(columns = ['Sentence']).groupby(['Rate']).sum().transpose()\n",
    "\n",
    "sum_occurences['Names'] = \\\n",
    "    sum_occurences.index\n",
    "\n",
    "sum_occurences.columns = \\\n",
    "    ['Negative', 'Positive', 'Names']\n",
    "    \n",
    "sum_occurences.plot(x = 'Names', y = ['Positive', 'Negative'], logy = True, kind = \"bar\", title = 'Sum of occurences', figsize = (18, 10))"
   ]
  },
  {
   "cell_type": "markdown",
   "metadata": {},
   "source": [
    "### Plot mean of occurences"
   ]
  },
  {
   "cell_type": "code",
   "execution_count": 28,
   "metadata": {},
   "outputs": [
    {
     "data": {
      "text/plain": [
       "<AxesSubplot:title={'center':'Mean of occurences'}, xlabel='Names'>"
      ]
     },
     "execution_count": 28,
     "metadata": {},
     "output_type": "execute_result"
    },
    {
     "data": {
      "image/png": "[encoded data removed]",
      "text/plain": [
       "<Figure size 1296x720 with 1 Axes>"
      ]
     },
     "metadata": {},
     "output_type": "display_data"
    }
   ],
   "source": [
    "mean_occurences: DataFrame = \\\n",
    "    analyzed_dataset.drop(columns = ['Sentence']).groupby(['Rate']).mean().transpose()\n",
    "\n",
    "mean_occurences['Names'] = \\\n",
    "    mean_occurences.index\n",
    "\n",
    "mean_occurences.columns = \\\n",
    "    ['Negative', 'Positive', 'Names']\n",
    "    \n",
    "mean_occurences.plot(x = 'Names', y = ['Positive', 'Negative'], logy = True, kind = \"bar\", title = 'Mean of occurences', figsize = (18, 10))"
   ]
  },
  {
   "cell_type": "markdown",
   "metadata": {},
   "source": [
    "### Plot correlations"
   ]
  },
  {
   "cell_type": "code",
   "execution_count": 29,
   "metadata": {},
   "outputs": [
    {
     "name": "stderr",
     "output_type": "stream",
     "text": [
      "C:\\Users\\mikol\\miniconda3\\envs\\nlp\\lib\\site-packages\\scipy\\stats\\stats.py:3913: PearsonRConstantInputWarning: An input array is constant; the correlation coefficent is not defined.\n",
      "  warnings.warn(PearsonRConstantInputWarning())\n"
     ]
    },
    {
     "data": {
      "text/plain": [
       "<AxesSubplot:>"
      ]
     },
     "execution_count": 29,
     "metadata": {},
     "output_type": "execute_result"
    },
    {
     "data": {
      "image/png": "[encoded data removed]",
      "text/plain": [
       "<Figure size 1152x720 with 2 Axes>"
      ]
     },
     "metadata": {},
     "output_type": "display_data"
    }
   ],
   "source": [
    "correlations: DataFrame = \\\n",
    "    analyzed_dataset.drop(columns = ['Sentence', 'Rate'])\n",
    "\n",
    "correlation_matrix: DataFrame = \\\n",
    "    DataFrame(data = [], index = correlations.columns, columns = correlations.columns).astype(float)\n",
    "\n",
    "for i in correlations.columns:\n",
    "    for j in correlations.columns:\n",
    "        correlation_matrix.loc[i, j] = \\\n",
    "            np.round(pearsonr(correlations.loc[:, i], correlations.loc[:, j])[0], 2)\n",
    "\n",
    "_, axes = plt.subplots(figsize = (16, 10))\n",
    "\n",
    "mask: ndarray = \\\n",
    "    np.triu(np.ones_like(correlation_matrix, dtype = bool))\n",
    "\n",
    "cmap: LinearSegmentedColormap = \\\n",
    "    sns.diverging_palette(230, 20, as_cmap = True)\n",
    "\n",
    "sns.heatmap(correlation_matrix.values,\n",
    "    xticklabels = correlation_matrix.columns,\n",
    "    yticklabels = correlation_matrix.columns,\n",
    "    mask = mask,\n",
    "    annot = True,\n",
    "    linewidths = .5,\n",
    "    ax = axes,\n",
    "    cmap = cmap,\n",
    "    fmt = 'g')"
   ]
  },
  {
   "cell_type": "markdown",
   "metadata": {},
   "source": [
    "### Plot reduced dimensions"
   ]
  },
  {
   "cell_type": "code",
   "execution_count": 30,
   "metadata": {},
   "outputs": [
    {
     "data": {
      "image/png": "[encoded data removed]",
      "text/plain": [
       "<Figure size 976.575x576 with 1 Axes>"
      ]
     },
     "metadata": {},
     "output_type": "display_data"
    },
    {
     "data": {
      "text/plain": [
       "<seaborn.axisgrid.FacetGrid at 0x25a1097d9d0>"
      ]
     },
     "execution_count": 30,
     "metadata": {},
     "output_type": "execute_result"
    },
    {
     "data": {
      "image/png": "[encoded data removed]",
      "text/plain": [
       "<Figure size 1843.2x576 with 2 Axes>"
      ]
     },
     "metadata": {},
     "output_type": "display_data"
    }
   ],
   "source": [
    "from sklearn.decomposition import PCA\n",
    "\n",
    "pca: PCA = \\\n",
    "    PCA(n_components = 2)\n",
    "\n",
    "compressed_occurences: DataFrame = \\\n",
    "    DataFrame(data = pca.fit_transform(correlations), columns = ['X', 'Y'])\n",
    "\n",
    "compressed_occurences['Rate'] = \\\n",
    "    analyzed_dataset.Rate\n",
    "\n",
    "sns.relplot(data = compressed_occurences, x = 'X', y = 'Y', hue = 'Rate', kind = 'scatter', aspect = 1.6, height = 8)\n",
    "plt.show()\n",
    "sns.relplot(data = compressed_occurences, x = 'X', y = 'Y', col = 'Rate', kind = 'scatter', aspect = 1.6, height = 8)"
   ]
  },
  {
   "cell_type": "markdown",
   "metadata": {},
   "source": [
    "## Train model"
   ]
  },
  {
   "cell_type": "markdown",
   "metadata": {},
   "source": [
    "### Create inputs"
   ]
  },
  {
   "cell_type": "code",
   "execution_count": 31,
   "metadata": {},
   "outputs": [
    {
     "data": {
      "text/plain": [
       "((20000, 300), dtype('float32'))"
      ]
     },
     "execution_count": 31,
     "metadata": {},
     "output_type": "execute_result"
    }
   ],
   "source": [
    "vector_sequences: cdarray = \\\n",
    "    cp.array([sentence.vector for sentence in documents])\n",
    "\n",
    "vector_sequences.shape, vector_sequences.dtype"
   ]
  },
  {
   "cell_type": "markdown",
   "metadata": {},
   "source": [
    "### Create labels"
   ]
  },
  {
   "cell_type": "code",
   "execution_count": 32,
   "metadata": {},
   "outputs": [
    {
     "data": {
      "text/plain": [
       "((20000,), dtype('int16'))"
      ]
     },
     "execution_count": 32,
     "metadata": {},
     "output_type": "execute_result"
    }
   ],
   "source": [
    "rates: cdarray = \\\n",
    "    cp.array(reduced_dataset.Rate, dtype = cp.int16)\n",
    "\n",
    "rates.shape, rates.dtype"
   ]
  },
  {
   "cell_type": "markdown",
   "metadata": {},
   "source": [
    "### Create train, test split"
   ]
  },
  {
   "cell_type": "code",
   "execution_count": 33,
   "metadata": {},
   "outputs": [
    {
     "data": {
      "text/plain": [
       "((13400, 300), (6600, 300), (13400,), (6600,), numpy.ndarray, numpy.ndarray)"
      ]
     },
     "execution_count": 33,
     "metadata": {},
     "output_type": "execute_result"
    }
   ],
   "source": [
    "X_train: ndarray\n",
    "X_test: ndarray\n",
    "y_train: ndarray\n",
    "y_test: ndarray\n",
    "\n",
    "X_train, X_test, y_train, y_test = \\\n",
    "    train_test_split(vector_sequences.get(), rates.get(), test_size = 0.33, random_state = 2021)\n",
    "\n",
    "X_train.shape, X_test.shape, y_train.shape, y_test.shape, type(X_train), type(y_train)"
   ]
  },
  {
   "cell_type": "markdown",
   "metadata": {},
   "source": [
    "### Create model"
   ]
  },
  {
   "cell_type": "code",
   "execution_count": 34,
   "metadata": {},
   "outputs": [],
   "source": [
    "class DCNN(Model):\n",
    "    def __init__(self, vocabulary_size: int,\n",
    "                 embedding_size: int, filters_number: int,\n",
    "                 output_size: int, classes_number: int,\n",
    "                 dropout_rate: float, name = 'dcnn'):\n",
    "\n",
    "        super(DCNN, self).__init__(name = name)\n",
    "\n",
    "        self.embedding = Embedding(vocabulary_size, embedding_size)\n",
    "        \n",
    "        self.bigram = Conv1D(filters = filters_number, kernel_size = 2, padding = 'valid', activation = lambda x : tf.nn.leaky_relu(x, alpha = 0.02))\n",
    "        self.trigram = Conv1D(filters = filters_number, kernel_size = 3, padding = 'valid', activation = lambda x : tf.nn.leaky_relu(x, alpha = 0.02))\n",
    "        self.fourgram = Conv1D(filters = filters_number, kernel_size = 4, padding = 'valid', activation = lambda x : tf.nn.leaky_relu(x, alpha = 0.02))\n",
    "        self.fifthgram = Conv1D(filters = filters_number, kernel_size = 5, padding = 'valid', activation = lambda x : tf.nn.leaky_relu(x, alpha = 0.02))\n",
    "        \n",
    "        self.pool = GlobalMaxPool1D()\n",
    "\n",
    "        self.dense_1 = Dense(units = output_size, activation = lambda x : tf.nn.leaky_relu(x, alpha = 0.01))\n",
    "        self.dropout_1 = Dropout(rate = dropout_rate)\n",
    "        \n",
    "        if classes_number == 2:\n",
    "            self.last_dense = Dense(units = 1, activation = 'sigmoid')\n",
    "        else:\n",
    "            self.last_dense = Dense(units = classes_number, activation = 'softmax')\n",
    "\n",
    "    def call(self, inputs: ndarray, training: bool = True):\n",
    "        embeddings = self.embedding(inputs)\n",
    "        \n",
    "        bigram = self.bigram(embeddings)\n",
    "        bigram = self.pool(bigram)\n",
    "\n",
    "        trigram = self.trigram(embeddings)\n",
    "        trigram = self.pool(trigram)\n",
    "        \n",
    "        fourgram = self.fourgram(embeddings)\n",
    "        fourgram = self.pool(fourgram)\n",
    "        \n",
    "        fifthgram = self.fifthgram(embeddings)\n",
    "        fifthgram = self.pool(fifthgram)\n",
    "\n",
    "        output = concat([bigram, trigram, fourgram, fifthgram], axis = -1)\n",
    "        \n",
    "        output = self.dense_1(output)\n",
    "        output = self.dropout_1(output, training)\n",
    "        \n",
    "        output = self.last_dense(output)\n",
    "\n",
    "        return output"
   ]
  },
  {
   "cell_type": "markdown",
   "metadata": {},
   "source": [
    "### Set hyperparameters"
   ]
  },
  {
   "cell_type": "code",
   "execution_count": 35,
   "metadata": {},
   "outputs": [],
   "source": [
    "VOCABULARY_SIZE: int = len(nlp.vocab)\n",
    "EMBEDDING_SIZE: int = 300\n",
    "FILTERS_NUMBER: int = 128\n",
    "OUTPUT_SIZE: int = 256\n",
    "CLASSES_NUMBER: int = len(set(clean_dataset.Rate))\n",
    "DROPOUT_RATE: float = 0.23\n",
    "BATCH_SIZE: int = 128\n",
    "NB_EPOCHS: int = 30"
   ]
  },
  {
   "cell_type": "markdown",
   "metadata": {},
   "source": [
    "### Compile instance"
   ]
  },
  {
   "cell_type": "code",
   "execution_count": 36,
   "metadata": {},
   "outputs": [],
   "source": [
    "dcnn: DCNN = \\\n",
    "    DCNN(VOCABULARY_SIZE, EMBEDDING_SIZE, FILTERS_NUMBER, OUTPUT_SIZE, CLASSES_NUMBER, DROPOUT_RATE)\n",
    "\n",
    "if CLASSES_NUMBER == 2:\n",
    "    dcnn.compile(loss = \"binary_crossentropy\", optimizer = \"adam\", metrics = [\"accuracy\"])\n",
    "else:\n",
    "    dcnn.compile(loss = \"sparse_categorical_crossentropy\", optimizer = \"adam\", metrics = [\"sparse_categorical_accuracy\"])"
   ]
  },
  {
   "cell_type": "markdown",
   "metadata": {},
   "source": [
    "### Train model"
   ]
  },
  {
   "cell_type": "code",
   "execution_count": 37,
   "metadata": {},
   "outputs": [
    {
     "name": "stdout",
     "output_type": "stream",
     "text": [
      "Epoch 1/30\n",
      "105/105 [==============================] - 13s 82ms/step - loss: 0.5261 - accuracy: 0.7388\n",
      "Epoch 2/30\n",
      "105/105 [==============================] - 8s 78ms/step - loss: 0.4092 - accuracy: 0.8110\n",
      "Epoch 3/30\n",
      "105/105 [==============================] - 8s 79ms/step - loss: 0.3673 - accuracy: 0.8345\n",
      "Epoch 4/30\n",
      "105/105 [==============================] - 8s 79ms/step - loss: 0.3361 - accuracy: 0.8522\n",
      "Epoch 5/30\n",
      "105/105 [==============================] - 8s 79ms/step - loss: 0.3202 - accuracy: 0.8600\n",
      "Epoch 6/30\n",
      "105/105 [==============================] - 8s 79ms/step - loss: 0.3248 - accuracy: 0.8585\n",
      "Epoch 7/30\n",
      "105/105 [==============================] - 8s 79ms/step - loss: 0.3097 - accuracy: 0.8666\n",
      "Epoch 8/30\n",
      "105/105 [==============================] - 8s 79ms/step - loss: 0.2991 - accuracy: 0.8696\n",
      "Epoch 9/30\n",
      "105/105 [==============================] - 10s 97ms/step - loss: 0.2950 - accuracy: 0.8712\n",
      "Epoch 10/30\n",
      "105/105 [==============================] - 10s 99ms/step - loss: 0.2923 - accuracy: 0.8717\n",
      "Epoch 11/30\n",
      "105/105 [==============================] - 11s 105ms/step - loss: 0.2973 - accuracy: 0.8708\n",
      "Epoch 12/30\n",
      "105/105 [==============================] - 11s 106ms/step - loss: 0.3024 - accuracy: 0.8680\n",
      "Epoch 13/30\n",
      "105/105 [==============================] - 11s 106ms/step - loss: 0.2852 - accuracy: 0.8719\n",
      "Epoch 14/30\n",
      "105/105 [==============================] - 11s 103ms/step - loss: 0.2749 - accuracy: 0.8795\n",
      "Epoch 15/30\n",
      "105/105 [==============================] - 17s 165ms/step - loss: 0.2766 - accuracy: 0.8801\n",
      "Epoch 16/30\n",
      "105/105 [==============================] - 23s 218ms/step - loss: 0.2821 - accuracy: 0.8772\n",
      "Epoch 17/30\n",
      "105/105 [==============================] - 23s 218ms/step - loss: 0.2648 - accuracy: 0.8868\n",
      "Epoch 18/30\n",
      "105/105 [==============================] - 24s 234ms/step - loss: 0.2674 - accuracy: 0.8858\n",
      "Epoch 19/30\n",
      "105/105 [==============================] - 26s 243ms/step - loss: 0.2621 - accuracy: 0.8846\n",
      "Epoch 20/30\n",
      "105/105 [==============================] - 31s 294ms/step - loss: 0.2559 - accuracy: 0.8903\n",
      "Epoch 21/30\n",
      "105/105 [==============================] - 38s 368ms/step - loss: 0.2523 - accuracy: 0.8940\n",
      "Epoch 22/30\n",
      "105/105 [==============================] - 42s 407ms/step - loss: 0.2525 - accuracy: 0.8907\n",
      "Epoch 23/30\n",
      "105/105 [==============================] - 14s 136ms/step - loss: 0.2462 - accuracy: 0.8946\n",
      "Epoch 24/30\n",
      "105/105 [==============================] - 9s 87ms/step - loss: 0.2483 - accuracy: 0.8913\n",
      "Epoch 25/30\n",
      "105/105 [==============================] - 9s 84ms/step - loss: 0.2617 - accuracy: 0.8855\n",
      "Epoch 26/30\n",
      "105/105 [==============================] - 9s 84ms/step - loss: 0.2408 - accuracy: 0.8971\n",
      "Epoch 27/30\n",
      "105/105 [==============================] - 9s 81ms/step - loss: 0.2416 - accuracy: 0.8976\n",
      "Epoch 28/30\n",
      "105/105 [==============================] - 8s 81ms/step - loss: 0.2445 - accuracy: 0.8941\n",
      "Epoch 29/30\n",
      "105/105 [==============================] - 8s 81ms/step - loss: 0.2379 - accuracy: 0.8976\n",
      "Epoch 30/30\n",
      "105/105 [==============================] - 9s 82ms/step - loss: 0.2323 - accuracy: 0.9010\n"
     ]
    },
    {
     "data": {
      "text/plain": [
       "<keras.callbacks.History at 0x25a16a06cd0>"
      ]
     },
     "execution_count": 37,
     "metadata": {},
     "output_type": "execute_result"
    }
   ],
   "source": [
    "dcnn.fit(X_train, y_train, batch_size = BATCH_SIZE, epochs = NB_EPOCHS)"
   ]
  },
  {
   "cell_type": "markdown",
   "metadata": {},
   "source": [
    "## Evaluate"
   ]
  },
  {
   "cell_type": "markdown",
   "metadata": {},
   "source": [
    "### Loss and Accuracy"
   ]
  },
  {
   "cell_type": "code",
   "execution_count": 38,
   "metadata": {},
   "outputs": [
    {
     "name": "stdout",
     "output_type": "stream",
     "text": [
      "52/52 [==============================] - 2s 24ms/step - loss: 0.3648 - accuracy: 0.8405 0s - l\n",
      "loss: 0.36480391025543213, accuracy: 0.8404545187950134\n"
     ]
    }
   ],
   "source": [
    "results: List[float] = \\\n",
    "    dcnn.evaluate(X_test, y_test, batch_size = BATCH_SIZE)\n",
    "\n",
    "print(f'loss: {results[0]}, accuracy: {results[1]}')"
   ]
  },
  {
   "cell_type": "markdown",
   "metadata": {},
   "source": [
    "### Confusion matrix"
   ]
  },
  {
   "cell_type": "code",
   "execution_count": 39,
   "metadata": {},
   "outputs": [
    {
     "name": "stdout",
     "output_type": "stream",
     "text": [
      "              precision    recall  f1-score   support\n",
      "\n",
      "           0       0.94      0.78      0.85      3909\n",
      "           1       0.75      0.92      0.82      2691\n",
      "\n",
      "    accuracy                           0.84      6600\n",
      "   macro avg       0.84      0.85      0.84      6600\n",
      "weighted avg       0.86      0.84      0.84      6600\n",
      "\n"
     ]
    },
    {
     "data": {
      "text/plain": [
       "<AxesSubplot:>"
      ]
     },
     "execution_count": 39,
     "metadata": {},
     "output_type": "execute_result"
    },
    {
     "data": {
      "image/png": "[encoded data removed]",
      "text/plain": [
       "<Figure size 1152x720 with 2 Axes>"
      ]
     },
     "metadata": {},
     "output_type": "display_data"
    }
   ],
   "source": [
    "from sklearn.metrics import confusion_matrix, classification_report\n",
    "\n",
    "predict_x: ndarray = \\\n",
    "    dcnn.predict(X_test)\n",
    "\n",
    "y_pred: ndarray = \\\n",
    "    (predict_x > 0.5).astype(\"int32\")\n",
    "\n",
    "matrix: ndarray = \\\n",
    "    confusion_matrix(y_test, y_pred)\n",
    "\n",
    "print(classification_report(y_pred, y_test))\n",
    "\n",
    "plt.figure(figsize = (16, 10))\n",
    "sns.heatmap(matrix / np.sum(matrix), annot = True, fmt = '.2%', cmap = 'Blues')"
   ]
  },
  {
   "cell_type": "markdown",
   "metadata": {},
   "source": [
    "### Precision"
   ]
  },
  {
   "cell_type": "code",
   "execution_count": 40,
   "metadata": {},
   "outputs": [
    {
     "data": {
      "image/png": "[encoded data removed]",
      "text/plain": [
       "<Figure size 1152x720 with 1 Axes>"
      ]
     },
     "metadata": {},
     "output_type": "display_data"
    }
   ],
   "source": [
    "from sklearn.metrics import precision_recall_curve, average_precision_score\n",
    "from numpy import float64\n",
    "\n",
    "def plot_precision(y_true: ndarray, y_pred: ndarray) -> None:\n",
    "    precision: ndarray\n",
    "    recall: ndarray\n",
    "    precision, recall, _ = \\\n",
    "    precision_recall_curve(y_true, y_pred)\n",
    "    average_precision: float64 = \\\n",
    "    average_precision_score(y_true, y_pred)\n",
    "    plt.figure(figsize=(16, 10))\n",
    "    plt.step(recall, precision, color = 'k', alpha = 0.7, where = 'post')\n",
    "    plt.fill_between(recall, precision, step = 'post', alpha = 0.3, color = 'b')\n",
    "    plt.xlabel('Recall')\n",
    "    plt.ylabel('Precision')\n",
    "    plt.ylim([0.0, 1.05])\n",
    "    plt.xlim([0.0, 1.0])\n",
    "    plt.title('Precision-Recall curve: Average Precision = {0:0.2f}'.format(average_precision))\n",
    "    plt.show()\n",
    "\n",
    "plot_precision(y_test, y_pred)"
   ]
  },
  {
   "cell_type": "markdown",
   "metadata": {},
   "source": [
    "### AUC curve"
   ]
  },
  {
   "cell_type": "code",
   "execution_count": 41,
   "metadata": {},
   "outputs": [
    {
     "data": {
      "image/png": "[encoded data removed]",
      "text/plain": [
       "<Figure size 1152x720 with 1 Axes>"
      ]
     },
     "metadata": {},
     "output_type": "display_data"
    }
   ],
   "source": [
    "from sklearn.metrics import roc_curve, auc\n",
    "\n",
    "def plot_auc(y_true: ndarray, y_pred: ndarray) -> None:\n",
    "    fpr: ndarray\n",
    "    tpr: ndarray\n",
    "    fpr, tpr, _ = \\\n",
    "    roc_curve(y_true, y_pred)\n",
    "    areaUnderROC: float64 = auc(fpr, tpr)\n",
    "    plt.figure(figsize=(16, 10))\n",
    "    plt.plot(fpr, tpr, color = 'r', lw = 2, label = 'ROC curve')\n",
    "    plt.plot([0, 1], [0, 1], color = 'b', lw = 2, linestyle = '--', label = 'threshold')\n",
    "    plt.xlim([0.0, 1.0])\n",
    "    plt.ylim([0.0, 1.05])\n",
    "    plt.xlabel('False Positive Rate')\n",
    "    plt.ylabel('True Positive Rate')\n",
    "    plt.title('Receiver operating characteristic: Area under the curve = {0:0.2f}'.format(areaUnderROC))\n",
    "    plt.legend(loc=\"lower right\")\n",
    "    plt.show()\n",
    "\n",
    "plot_auc(y_test, y_pred)"
   ]
  },
  {
   "cell_type": "markdown",
   "metadata": {},
   "source": [
    "## Search similar sentences"
   ]
  },
  {
   "cell_type": "code",
   "execution_count": 42,
   "metadata": {},
   "outputs": [
    {
     "name": "stdout",
     "output_type": "stream",
     "text": [
      "\n",
      "wyraz do wyszukania: Polecam nie pierwszy i nie ostatni raz!\n",
      "                                             sentence  similarity\n",
      "59            Wszystko załatwione pomyślnie. Polecam!    0.481337\n",
      "84  wszystko w jak najlepszym porządku, szybko i p...    0.468931\n",
      "62  Rewelacja. Wieczorem kupiłem następnego dnia p...    0.449489\n",
      "82               profesjonalnie i ekspresowo, polecam    0.447162\n",
      "43  Transakcja przebiegła pomyślnie, wszystko OK. ...    0.435976\n",
      "..                                                ...         ...\n",
      "67                    Profesjonalna i szybka  obsługa    0.086469\n",
      "53             Profesjonalna obsługa, szybka wysyłka.    0.074374\n",
      "89          WSZYSTKO OK !!!!! POLECAM FACHOWOŚĆ 100 %    0.069319\n",
      "19              Bardzo szybka wysyłka. Firma na plus.    0.061354\n",
      "47                    TRANSAKCJA PRZEBIEGŁA POMYŚLNIE   -0.028629\n",
      "\n",
      "[99 rows x 2 columns]\n"
     ]
    }
   ],
   "source": [
    "def search_similar_sentences(sentences: Series, search_sentence: str) -> DataFrame:\n",
    "    similarities: List[Tuple[str, float]] = []\n",
    "\n",
    "    search_document: Doc = \\\n",
    "        nlp(search_sentence)\n",
    "\n",
    "    clean_search_document: Doc = \\\n",
    "        nlp(' '.join([str(word) for word in search_document if not word.is_stop and not word.is_punct]))\n",
    "\n",
    "    for sentence in sentences:\n",
    "        search_sentence: Doc = \\\n",
    "            nlp(sentence)\n",
    "\n",
    "        clean_search_sentence: Doc = \\\n",
    "            nlp(' '.join([str(word) for word in search_sentence if not word.is_stop and not word.is_punct]))\n",
    "\n",
    "        similarities.append((sentence, clean_search_document.similarity(clean_search_sentence)))\n",
    "    \n",
    "    search_results: DataFrame = \\\n",
    "        DataFrame(similarities, columns = ['sentence', 'similarity'])\n",
    "\n",
    "    return search_results.sort_values(by = ['similarity'], ascending = False)\n",
    "\n",
    "similar_sentences: DataFrame = \\\n",
    "    search_similar_sentences(clean_dataset.Sentence.iloc[1:100], clean_dataset.Sentence.iloc[0])\n",
    "\n",
    "print(f'\\nwyraz do wyszukania: {clean_dataset.Sentence.iloc[0]}')\n",
    "print(similar_sentences.head(100))"
   ]
  },
  {
   "cell_type": "markdown",
   "metadata": {},
   "source": [
    "## Predict results"
   ]
  },
  {
   "cell_type": "markdown",
   "metadata": {},
   "source": [
    "### Negative sample"
   ]
  },
  {
   "cell_type": "code",
   "execution_count": 43,
   "metadata": {},
   "outputs": [
    {
     "data": {
      "text/plain": [
       "array(0.01194425, dtype=float32)"
      ]
     },
     "execution_count": 43,
     "metadata": {},
     "output_type": "execute_result"
    }
   ],
   "source": [
    "text_to_predict: str = \\\n",
    "    'strata czasu.'\n",
    "    \n",
    "vector: ndarray = \\\n",
    "    nlp(text_to_predict, disable=\"ner tagger parser\").vector\n",
    "    \n",
    "vector_input: ndarray = \\\n",
    "    np.transpose(np.expand_dims(vector, axis = 1))\n",
    "\n",
    "np.squeeze(dcnn(vector_input.get(), training=False))"
   ]
  },
  {
   "cell_type": "markdown",
   "metadata": {},
   "source": [
    "### Positive sample"
   ]
  },
  {
   "cell_type": "code",
   "execution_count": 45,
   "metadata": {},
   "outputs": [
    {
     "data": {
      "text/plain": [
       "array([[0.90256965]], dtype=float32)"
      ]
     },
     "execution_count": 45,
     "metadata": {},
     "output_type": "execute_result"
    }
   ],
   "source": [
    "text_to_predict: str = \\\n",
    "    'gorąco polecam. wszystko poszło sprawnie'\n",
    "    \n",
    "vector: ndarray = \\\n",
    "    nlp(text_to_predict, disable=\"ner tagger parser\").vector\n",
    "    \n",
    "vector_input: ndarray = \\\n",
    "    np.transpose(np.expand_dims(vector, axis = 1))\n",
    "    \n",
    "dcnn(vector_input.get(), training=False).numpy()"
   ]
  }
 ],
 "metadata": {
  "interpreter": {
   "hash": "15db97bf48b5ba9cd5f39859278ae1172c3514b3e1fa4e7fbebe34226255326c"
  },
  "kernelspec": {
   "display_name": "Python 3.9.7 64-bit ('nlp': conda)",
   "language": "python",
   "name": "python3"
  },
  "language_info": {
   "codemirror_mode": {
    "name": "ipython",
    "version": 3
   },
   "file_extension": ".py",
   "mimetype": "text/x-python",
   "name": "python",
   "nbconvert_exporter": "python",
   "pygments_lexer": "ipython3",
   "version": "3.9.7"
  },
  "orig_nbformat": 4
 },
 "nbformat": 4,
 "nbformat_minor": 2
}
